{
 "cells": [
  {
   "cell_type": "code",
   "execution_count": 1,
   "metadata": {},
   "outputs": [
    {
     "name": "stdout",
     "output_type": "stream",
     "text": [
      "1.소켓생성\n",
      "3.접속시도\n",
      "5.데이터 송신\n",
      "6.접속 종료\n"
     ]
    }
   ],
   "source": [
    "import socket\n",
    "from threading import Thread\n",
    "\n",
    "def recv_message(sock):\n",
    "    while True:\n",
    "        msg = sock.recv(1024)\n",
    "        print(msg.decode())\n",
    "\n",
    "sock = socket.socket(socket.AF_INET, socket.SOCK_STREAM)\n",
    "sock.connect((\"127.0.0.1\", 8274))\n",
    "\n",
    "th = Thread(target=recv_message, args=(sock, ))\n",
    "th.daemon = True\n",
    "th.start()\n",
    "\n",
    "while True:\n",
    "    msg = input()\n",
    "    sock.send(msg.encode())\n",
    "    if msg == \"/bye\":\n",
    "        break\n",
    "sock.close()\n",
    "[출처] 파이썬#87 - socketserver 로 채팅 서버/클라이언트 구현하기|작성자 남박사"
   ]
  }
 ],
 "metadata": {
  "kernelspec": {
   "display_name": "Python 3.10.7 64-bit (microsoft store)",
   "language": "python",
   "name": "python3"
  },
  "language_info": {
   "codemirror_mode": {
    "name": "ipython",
    "version": 3
   },
   "file_extension": ".py",
   "mimetype": "text/x-python",
   "name": "python",
   "nbconvert_exporter": "python",
   "pygments_lexer": "ipython3",
   "version": "3.10.7"
  },
  "orig_nbformat": 4,
  "vscode": {
   "interpreter": {
    "hash": "5c1f741a4f83aa020b4b2a4d7353a073a4e5e4a855a3258a20da40294ddbf005"
   }
  }
 },
 "nbformat": 4,
 "nbformat_minor": 2
}
