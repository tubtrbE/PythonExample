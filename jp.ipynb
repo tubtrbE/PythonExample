{
 "cells": [
  {
   "cell_type": "code",
   "execution_count": 4,
   "metadata": {},
   "outputs": [
    {
     "name": "stdout",
     "output_type": "stream",
     "text": [
      "[[[0 0 0]\n",
      "  [0 0 0]\n",
      "  [0 0 0]\n",
      "  ...\n",
      "  [0 0 0]\n",
      "  [0 0 0]\n",
      "  [0 0 0]]\n",
      "\n",
      " [[0 0 0]\n",
      "  [0 0 0]\n",
      "  [0 0 0]\n",
      "  ...\n",
      "  [0 0 0]\n",
      "  [0 0 0]\n",
      "  [0 0 0]]\n",
      "\n",
      " [[0 0 0]\n",
      "  [0 0 0]\n",
      "  [0 0 0]\n",
      "  ...\n",
      "  [0 0 0]\n",
      "  [0 0 0]\n",
      "  [0 0 0]]\n",
      "\n",
      " ...\n",
      "\n",
      " [[0 0 0]\n",
      "  [0 0 0]\n",
      "  [0 0 0]\n",
      "  ...\n",
      "  [0 0 0]\n",
      "  [0 0 0]\n",
      "  [0 0 0]]\n",
      "\n",
      " [[0 0 0]\n",
      "  [0 0 0]\n",
      "  [0 0 0]\n",
      "  ...\n",
      "  [0 0 0]\n",
      "  [0 0 0]\n",
      "  [0 0 0]]\n",
      "\n",
      " [[0 0 0]\n",
      "  [0 0 0]\n",
      "  [0 0 0]\n",
      "  ...\n",
      "  [0 0 0]\n",
      "  [0 0 0]\n",
      "  [0 0 0]]]\n",
      "600\n"
     ]
    }
   ],
   "source": [
    "import cv2\n",
    "import numpy as np\n",
    "\n",
    "img = np.zeros((600, 800, 3), np.uint8)\n",
    "\n",
    "print(img[:10])\n",
    "print(len(img))\n",
    "\n",
    "cv2.imshow(\"image\", img)\n",
    "cv2.waitKey(0)\n",
    "cv2.destroyAllWindows()\n"
   ]
  },
  {
   "cell_type": "code",
   "execution_count": 5,
   "metadata": {},
   "outputs": [
    {
     "name": "stdout",
     "output_type": "stream",
     "text": [
      "[[[255   0 255]\n",
      "  [255   0 255]\n",
      "  [255   0 255]\n",
      "  ...\n",
      "  [255   0 255]\n",
      "  [255   0 255]\n",
      "  [255   0 255]]\n",
      "\n",
      " [[255   0 255]\n",
      "  [255   0 255]\n",
      "  [255   0 255]\n",
      "  ...\n",
      "  [255   0 255]\n",
      "  [255   0 255]\n",
      "  [255   0 255]]\n",
      "\n",
      " [[255   0 255]\n",
      "  [255   0 255]\n",
      "  [255   0 255]\n",
      "  ...\n",
      "  [255   0 255]\n",
      "  [255   0 255]\n",
      "  [255   0 255]]\n",
      "\n",
      " ...\n",
      "\n",
      " [[255   0 255]\n",
      "  [255   0 255]\n",
      "  [255   0 255]\n",
      "  ...\n",
      "  [255   0 255]\n",
      "  [255   0 255]\n",
      "  [255   0 255]]\n",
      "\n",
      " [[255   0 255]\n",
      "  [255   0 255]\n",
      "  [255   0 255]\n",
      "  ...\n",
      "  [255   0 255]\n",
      "  [255   0 255]\n",
      "  [255   0 255]]\n",
      "\n",
      " [[255   0 255]\n",
      "  [255   0 255]\n",
      "  [255   0 255]\n",
      "  ...\n",
      "  [255   0 255]\n",
      "  [255   0 255]\n",
      "  [255   0 255]]]\n",
      "600\n"
     ]
    }
   ],
   "source": [
    "import cv2\n",
    "import numpy as np\n",
    "\n",
    "img = np.full((600, 800, 3), (255, 0, 255), dtype=np.uint8)\n",
    "\n",
    "print(img[:10])\n",
    "print(len(img))\n",
    "\n",
    "cv2.imshow(\"image\", img)\n",
    "cv2.waitKey(0)\n",
    "cv2.destroyAllWindows()"
   ]
  },
  {
   "cell_type": "code",
   "execution_count": 7,
   "metadata": {},
   "outputs": [],
   "source": [
    "import cv2\n",
    "import numpy as np\n",
    "\n",
    "img = np.full((600, 800, 3), (255, 255, 255), dtype=np.uint8)\n",
    "cv2.rectangle(img, (30, 30), (300, 300), (0, 0, 0), 3, cv2.LINE_AA)\n",
    "\n",
    "cv2.imshow(\"image\", img)\n",
    "cv2.waitKey(0)\n",
    "cv2.destroyAllWindows()"
   ]
  },
  {
   "cell_type": "code",
   "execution_count": 21,
   "metadata": {},
   "outputs": [
    {
     "name": "stdout",
     "output_type": "stream",
     "text": [
      "<class 'int'>\n"
     ]
    }
   ],
   "source": [
    "import cv2\n",
    "import numpy as np\n",
    "\n",
    "width = 1000\n",
    "height = 1000\n",
    "\n",
    "img = np.full((width, height, 3), (255, 255, 255), dtype=np.uint8)\n",
    "img_name = \"image\"\n",
    "\n",
    "# a/b 를 수행 할때 무조건 실수형 자료형이 반환된다.\n",
    "# a//b 를 사용해야 정수형으로 사용 가능하다.\n",
    "cv2.circle(img, (width//2, height//2), 135, (255, 0, 255), 3, cv2.LINE_AA)\n",
    "\n",
    "print(type(width))\n",
    "\n",
    "\n",
    "\"\"\"\n",
    "cv2.ellipse(img, (width/2, height/2), (120, 120), 0, 0, 160, (255, 0, 0), 2, cv2.LINE_AA)\n",
    "cv2.ellipse(img, (width/2, height/2), (130, 130), 180, 0, 160, (0, 0, 255), 2, cv2.LINE_AA)\n",
    "cv2.ellipse(img, (width/2, height/2), (180, 100), 0, 0, 360, (0, 0, 0), 2, cv2.LINE_AA)\n",
    "\"\"\"\n",
    "cv2.imshow(img_name, img)\n",
    "cv2.waitKey(0)\n",
    "cv2.destroyAllWindows()"
   ]
  },
  {
   "cell_type": "code",
   "execution_count": 25,
   "metadata": {},
   "outputs": [
    {
     "name": "stdout",
     "output_type": "stream",
     "text": [
      "1.소켓생성\n",
      "3.접속시도\n",
      "5.데이터 송신\n",
      "6.접속 종료\n"
     ]
    }
   ],
   "source": [
    "import socket\n",
    "\n",
    "print(\"1.소켓생성\")\n",
    "sock = socket.socket(socket.AF_INET, socket.SOCK_STREAM)\n",
    "\n",
    "print(\"3.접속시도\")\n",
    "sock.connect((\"211.109.220.211\", 8554))\n",
    "\n",
    "print(\"5.데이터 송신\")\n",
    "sock.sendall(bytes(\"Hello socket\", \"utf-8\"))\n",
    "\n",
    "print(\"6.접속 종료\")\n",
    "sock.close()"
   ]
  },
  {
   "cell_type": "code",
   "execution_count": 29,
   "metadata": {},
   "outputs": [],
   "source": [
    "import cv2\n",
    "import numpy as np\n",
    "\n",
    "def onMouse(event,x,y,flags,param):\n",
    "\n",
    "    # x, y 마우스 클릭지점 \n",
    "    if event==cv2.EVENT_LBUTTONDOWN: # 마우스 왼쪽 버튼 클릭\n",
    "        cv2.rectangle(param[0],(x-5,y-5),(x+5,y+5),(255,0,0))\n",
    "    cv2.imshow('img',param[0])\n",
    "\n",
    "width = 1000\n",
    "height = 1000\n",
    "\n",
    "img = np.full((width, height, 3), (255, 255, 255), dtype=np.uint8)\n",
    "cv2.circle(img, (width//2, height//2), 135, (255, 0, 255), 3, cv2.LINE_AA)\n",
    "\n",
    "cv2.imshow('img',img)\n",
    "cv2.setMouseCallback('img',onMouse,[img])\n",
    "cv2.waitKey()\n",
    "cv2.destroyAllWindows()"
   ]
  }
 ],
 "metadata": {
  "kernelspec": {
   "display_name": "Python 3.10.7 64-bit",
   "language": "python",
   "name": "python3"
  },
  "language_info": {
   "codemirror_mode": {
    "name": "ipython",
    "version": 3
   },
   "file_extension": ".py",
   "mimetype": "text/x-python",
   "name": "python",
   "nbconvert_exporter": "python",
   "pygments_lexer": "ipython3",
   "version": "3.10.7"
  },
  "orig_nbformat": 4,
  "vscode": {
   "interpreter": {
    "hash": "26de051ba29f2982a8de78e945f0abaf191376122a1563185a90213a26c5da77"
   }
  }
 },
 "nbformat": 4,
 "nbformat_minor": 2
}
